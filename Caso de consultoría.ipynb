{
 "cells": [
  {
   "cell_type": "markdown",
   "metadata": {},
   "source": [
    "# CASO DE CONSULTORIA\n",
    "\n",
    "Una de las operaciones de cobranzas de la compañía quiere generar estrategias diferenciadas para el proceso de gestión de recuperación de cartera de clientes de acuerdo con el riesgo de no pago de la primera factura.\n",
    "\n",
    "La estrategia se divide en 3 grupos de intervención:\n",
    "\n",
    "1.\tAlto riesgo: Llamarlos al 5 día de mora.\n",
    "2.\tMedio riesgo: Enviar mensaje de texto al 5 día de mora.\n",
    "3.\tBajo riesgo: Enviar mensaje de texto al día 15 de mora.\n",
    "Los costos por cada tipo de contacto son los siguientes:\n",
    "\n",
    "•\tLlamada asesor de cobranza 1700 pesos\n",
    "•\tMensaje de texto 40 pesos\n",
    "Instrucciones\n",
    "\n",
    "1.\tMuestre un análisis descriptivo y/o diagnóstico inicial de la información insumo para el modelo.\n",
    "2.\tConstruya un modelo estadístico que calcule la probabilidad de que un cliente no pague la primera factura. Explique por qué escogió las variables con las que va a trabajar y si debió hacer modificaciones de estas.\n",
    "3.\tDefina los puntos de corte que determinen a que grupo de estrategia pertenece cada cliente.\n",
    "4.\tDescriba el perfil de los clientes con un alto riesgo de no pago.\n",
    "5.\t¿Qué sugerencias haría usted al equipo de cobranzas de acuerdo con el análisis de la información del modelo?\n",
    "6.\tExplique el modelo y sustente su validez estadística, así como los puntos de corte, la cantidad de clientes que pertenecen a cada estrategia, los perfiles de riesgo y sus sugerencias y conclusiones.\n",
    "7.\tAdjunte la base de datos con la probabilidad de riesgo de cada cliente.\n",
    "\n"
   ]
  },
  {
   "cell_type": "code",
   "execution_count": 1,
   "metadata": {
    "scrolled": true
   },
   "outputs": [],
   "source": [
    "#LIBRERÍAS\n",
    "# Datos\n",
    "# ==============================================================================\n",
    "import pandas as pd\n",
    "import numpy as np\n",
    "import pandas_profiling\n",
    "\n",
    "\n",
    "# Gráficos\n",
    "# ==============================================================================\n",
    "import matplotlib.pyplot as plt\n",
    "from matplotlib import style\n",
    "import seaborn as sns\n",
    "\n",
    "# Preprocesado y modelado\n",
    "# ==============================================================================\n",
    "from sklearn.linear_model import LogisticRegression\n",
    "from sklearn.model_selection import train_test_split\n",
    "from sklearn.metrics import accuracy_score\n",
    "from sklearn.metrics import plot_confusion_matrix\n",
    "import statsmodels.api as sm\n",
    "import statsmodels.formula.api as smf"
   ]
  },
  {
   "cell_type": "code",
   "execution_count": 2,
   "metadata": {
    "scrolled": true
   },
   "outputs": [
    {
     "name": "stdout",
     "output_type": "stream",
     "text": [
      "Tipos de datos en BD\n"
     ]
    },
    {
     "data": {
      "text/plain": [
       "REGIONAL                      object\n",
       "DEPARTAMENTO                  object\n",
       "TECNOL                        object\n",
       "GERENCIA                      object\n",
       "CANAL_HOMOLOGADO_MILLICON     object\n",
       "tipo_fuerza_venta             object\n",
       "estrato                       object\n",
       "antiguedad_meses             float64\n",
       "productos                     object\n",
       "portafolio                    object\n",
       "no_serv_tecnicos             float64\n",
       "fallo                         object\n",
       "asesoria_factura               int64\n",
       "pedidos_peticiones             int64\n",
       "reagendamiento                 int64\n",
       "asesoria_servicios             int64\n",
       "retencion                      int64\n",
       "Otras                          int64\n",
       "quejas_fraude                  int64\n",
       "traslado                       int64\n",
       "Incumplimiento_pago            int64\n",
       "dtype: object"
      ]
     },
     "execution_count": 2,
     "metadata": {},
     "output_type": "execute_result"
    }
   ],
   "source": [
    "#Lectura BD\n",
    "df = pd.read_excel('D:\\Laura\\PRUEBA TECNICA\\Base de datos prueba tecnica.xlsx', sheet_name='DB')\n",
    "df = df.set_index('cliente_id')\n",
    "\n",
    "#Revisión de los tipos de datos en la base\n",
    "print(\"Tipos de datos en BD\")\n",
    "df.dtypes"
   ]
  },
  {
   "cell_type": "code",
   "execution_count": 4,
   "metadata": {},
   "outputs": [
    {
     "name": "stdout",
     "output_type": "stream",
     "text": [
      "Tipos de datos en BD\n"
     ]
    },
    {
     "data": {
      "text/plain": [
       "REGIONAL                      object\n",
       "DEPARTAMENTO                  object\n",
       "TECNOL                        object\n",
       "GERENCIA                      object\n",
       "CANAL_HOMOLOGADO_MILLICON     object\n",
       "tipo_fuerza_venta             object\n",
       "estrato                       object\n",
       "antiguedad_meses             float64\n",
       "productos                     object\n",
       "portafolio                    object\n",
       "no_serv_tecnicos             float64\n",
       "fallo                         object\n",
       "asesoria_factura               int64\n",
       "pedidos_peticiones             int64\n",
       "reagendamiento                 int64\n",
       "asesoria_servicios             int64\n",
       "retencion                      int64\n",
       "Otras                          int64\n",
       "quejas_fraude                  int64\n",
       "traslado                       int64\n",
       "Incumplimiento_pago            int64\n",
       "dtype: object"
      ]
     },
     "execution_count": 4,
     "metadata": {},
     "output_type": "execute_result"
    }
   ],
   "source": [
    "#Cambio de tipos de datos a las variables Estrato y cliente_id\n",
    "df[['estrato']] = df[['estrato']].astype(str)\n",
    "print(\"Tipos de datos en BD\")\n",
    "df.dtypes"
   ]
  },
  {
   "cell_type": "code",
   "execution_count": 6,
   "metadata": {},
   "outputs": [
    {
     "data": {
      "application/vnd.jupyter.widget-view+json": {
       "model_id": "bbba1b5efa204b6985a823f539aff474",
       "version_major": 2,
       "version_minor": 0
      },
      "text/plain": [
       "HBox(children=(HTML(value='Summarize dataset'), FloatProgress(value=0.0, max=36.0), HTML(value='')))"
      ]
     },
     "metadata": {},
     "output_type": "display_data"
    },
    {
     "name": "stdout",
     "output_type": "stream",
     "text": [
      "\n"
     ]
    },
    {
     "data": {
      "application/vnd.jupyter.widget-view+json": {
       "model_id": "4ea4f0c83c8e434aad2af4703d039005",
       "version_major": 2,
       "version_minor": 0
      },
      "text/plain": [
       "HBox(children=(HTML(value='Generate report structure'), FloatProgress(value=0.0, max=1.0), HTML(value='')))"
      ]
     },
     "metadata": {},
     "output_type": "display_data"
    },
    {
     "name": "stdout",
     "output_type": "stream",
     "text": [
      "\n"
     ]
    },
    {
     "data": {
      "application/vnd.jupyter.widget-view+json": {
       "model_id": "f1675692d9704a4197a127db60d075bd",
       "version_major": 2,
       "version_minor": 0
      },
      "text/plain": [
       "HBox(children=(HTML(value='Render HTML'), FloatProgress(value=0.0, max=1.0), HTML(value='')))"
      ]
     },
     "metadata": {},
     "output_type": "display_data"
    },
    {
     "name": "stdout",
     "output_type": "stream",
     "text": [
      "\n"
     ]
    },
    {
     "data": {
      "application/vnd.jupyter.widget-view+json": {
       "model_id": "72b999d66cae4d9ab77b2e9d8e5ab6a5",
       "version_major": 2,
       "version_minor": 0
      },
      "text/plain": [
       "HBox(children=(HTML(value='Export report to file'), FloatProgress(value=0.0, max=1.0), HTML(value='')))"
      ]
     },
     "metadata": {},
     "output_type": "display_data"
    },
    {
     "name": "stdout",
     "output_type": "stream",
     "text": [
      "\n"
     ]
    }
   ],
   "source": [
    "#Rta 1/ Muestre un análisis descriptivo y/o diagnóstico inicial de la información insumo para el modelo.\n",
    "profile = pandas_profiling.ProfileReport(df,title=\"Reporte Servicio\", explorative=True)\n",
    "profile.to_file(\"D:\\Laura\\PRUEBA TECNICA\\Reporte.html\")"
   ]
  },
  {
   "cell_type": "markdown",
   "metadata": {},
   "source": [
    "## Descriptivo de los datos recibidos"
   ]
  },
  {
   "cell_type": "code",
   "execution_count": 7,
   "metadata": {},
   "outputs": [
    {
     "data": {
      "application/vnd.jupyter.widget-view+json": {
       "model_id": "",
       "version_major": 2,
       "version_minor": 0
      },
      "text/plain": [
       "HBox(children=(HTML(value='Render widgets'), FloatProgress(value=0.0, max=1.0), HTML(value='')))"
      ]
     },
     "metadata": {},
     "output_type": "display_data"
    },
    {
     "data": {
      "application/vnd.jupyter.widget-view+json": {
       "model_id": "d878784cdc3240d9aa4dbb3708c98d52",
       "version_major": 2,
       "version_minor": 0
      },
      "text/plain": [
       "VBox(children=(Tab(children=(Tab(children=(GridBox(children=(VBox(children=(GridspecLayout(children=(HTML(valu…"
      ]
     },
     "metadata": {},
     "output_type": "display_data"
    }
   ],
   "source": [
    "profile.to_widgets()"
   ]
  },
  {
   "cell_type": "markdown",
   "metadata": {},
   "source": [
    "## Conclusiones de los descriptivos anteriores\n",
    "- El conjunto de datos tiene 7393 (37.1%) registros duplicados\n",
    "- DEPARTAMENTO y REGIONAL están altamente correlacionadas -> (Probablemente sea mejor modelar con alguna, no con ambas) \n",
    "- CANAL_HOMOLOGADO_MILLICON y GERENCIA están altamente correlacionadas -> (Probablemente sea mejor modelar con alguna, no con ambas) \n",
    "- tipo_fuerza_venta y CANAL_HOMOLOGADO_MILLICON están altamente correlacionadas -> (Probablemente sea mejor modelar con alguna, no con ambas) \n",
    "- portafolio y productos están altamente correlacionadas -> (Probablemente sea mejor modelar con alguna, no con ambas) \n",
    "- antiguedad_meses tiene 1678 (8.4%) valores faltantes -> Como es numérica tal vez valga la pena categorizarla y dejar los faltantes con ND\n",
    "- no_serv_tecnicos tiene 13033 (65.4%) valores faltantes -> Deben considerarse como Ceros\n",
    "- fallo tiene 13033 (65.4%) valores faltantes -> Deberían considerarse como NA porque no tuvieron solicitud de servicios técnicos"
   ]
  },
  {
   "cell_type": "markdown",
   "metadata": {},
   "source": [
    "## Teniendo en cuenta los descriptivos se evidencian registros duplicados que serán retirados para posteriores análisis"
   ]
  },
  {
   "cell_type": "code",
   "execution_count": 8,
   "metadata": {},
   "outputs": [],
   "source": [
    "#Retira registros duplicados\n",
    "df = df.drop_duplicates()"
   ]
  },
  {
   "cell_type": "code",
   "execution_count": 9,
   "metadata": {
    "scrolled": true
   },
   "outputs": [
    {
     "name": "stdout",
     "output_type": "stream",
     "text": [
      "Verifica la cantidad de registros duplicados (True=0)\n",
      "False    10331\n",
      "dtype: int64\n"
     ]
    }
   ],
   "source": [
    "print(\"Verifica la cantidad de registros duplicados (True=0)\")\n",
    "print(df.duplicated().value_counts())"
   ]
  },
  {
   "cell_type": "code",
   "execution_count": 10,
   "metadata": {},
   "outputs": [
    {
     "name": "stdout",
     "output_type": "stream",
     "text": [
      "Distribución de la variable antiguedad_meses, para discretizar en cuartiles\n"
     ]
    },
    {
     "data": {
      "text/plain": [
       "count    9939.000000\n",
       "mean       52.272462\n",
       "std        63.071216\n",
       "min         0.000000\n",
       "25%         7.000000\n",
       "50%        24.000000\n",
       "75%        71.000000\n",
       "max       337.000000\n",
       "Name: antiguedad_meses, dtype: float64"
      ]
     },
     "execution_count": 10,
     "metadata": {},
     "output_type": "execute_result"
    }
   ],
   "source": [
    "print(\"Distribución de la variable antiguedad_meses, para discretizar en cuartiles\")\n",
    "df['antiguedad_meses'].describe()"
   ]
  },
  {
   "cell_type": "code",
   "execution_count": 11,
   "metadata": {},
   "outputs": [
    {
     "name": "stderr",
     "output_type": "stream",
     "text": [
      "<ipython-input-11-6e43c8369b66>:1: SettingWithCopyWarning: \n",
      "A value is trying to be set on a copy of a slice from a DataFrame.\n",
      "Try using .loc[row_indexer,col_indexer] = value instead\n",
      "\n",
      "See the caveats in the documentation: https://pandas.pydata.org/pandas-docs/stable/user_guide/indexing.html#returning-a-view-versus-a-copy\n",
      "  df['antiguedad_meses_binned'] = pd.qcut(df['antiguedad_meses'], q=4, precision=0)\n"
     ]
    },
    {
     "data": {
      "text/html": [
       "<div>\n",
       "<style scoped>\n",
       "    .dataframe tbody tr th:only-of-type {\n",
       "        vertical-align: middle;\n",
       "    }\n",
       "\n",
       "    .dataframe tbody tr th {\n",
       "        vertical-align: top;\n",
       "    }\n",
       "\n",
       "    .dataframe thead th {\n",
       "        text-align: right;\n",
       "    }\n",
       "</style>\n",
       "<table border=\"1\" class=\"dataframe\">\n",
       "  <thead>\n",
       "    <tr style=\"text-align: right;\">\n",
       "      <th></th>\n",
       "      <th>REGIONAL</th>\n",
       "      <th>DEPARTAMENTO</th>\n",
       "      <th>TECNOL</th>\n",
       "      <th>GERENCIA</th>\n",
       "      <th>CANAL_HOMOLOGADO_MILLICON</th>\n",
       "      <th>tipo_fuerza_venta</th>\n",
       "      <th>estrato</th>\n",
       "      <th>antiguedad_meses</th>\n",
       "      <th>productos</th>\n",
       "      <th>portafolio</th>\n",
       "      <th>...</th>\n",
       "      <th>asesoria_factura</th>\n",
       "      <th>pedidos_peticiones</th>\n",
       "      <th>reagendamiento</th>\n",
       "      <th>asesoria_servicios</th>\n",
       "      <th>retencion</th>\n",
       "      <th>Otras</th>\n",
       "      <th>quejas_fraude</th>\n",
       "      <th>traslado</th>\n",
       "      <th>Incumplimiento_pago</th>\n",
       "      <th>antiguedad_meses_binned</th>\n",
       "    </tr>\n",
       "    <tr>\n",
       "      <th>cliente_id</th>\n",
       "      <th></th>\n",
       "      <th></th>\n",
       "      <th></th>\n",
       "      <th></th>\n",
       "      <th></th>\n",
       "      <th></th>\n",
       "      <th></th>\n",
       "      <th></th>\n",
       "      <th></th>\n",
       "      <th></th>\n",
       "      <th></th>\n",
       "      <th></th>\n",
       "      <th></th>\n",
       "      <th></th>\n",
       "      <th></th>\n",
       "      <th></th>\n",
       "      <th></th>\n",
       "      <th></th>\n",
       "      <th></th>\n",
       "      <th></th>\n",
       "      <th></th>\n",
       "    </tr>\n",
       "  </thead>\n",
       "  <tbody>\n",
       "    <tr>\n",
       "      <th>1004369760</th>\n",
       "      <td>COSTA</td>\n",
       "      <td>MAGDALENA</td>\n",
       "      <td>HFC</td>\n",
       "      <td>CONTACT</td>\n",
       "      <td>SAC</td>\n",
       "      <td>INDIRECTA</td>\n",
       "      <td>3</td>\n",
       "      <td>19.0</td>\n",
       "      <td>TV+BA</td>\n",
       "      <td>Duo</td>\n",
       "      <td>...</td>\n",
       "      <td>0</td>\n",
       "      <td>0</td>\n",
       "      <td>0</td>\n",
       "      <td>0</td>\n",
       "      <td>0</td>\n",
       "      <td>0</td>\n",
       "      <td>0</td>\n",
       "      <td>0</td>\n",
       "      <td>0</td>\n",
       "      <td>(7.0, 24.0]</td>\n",
       "    </tr>\n",
       "    <tr>\n",
       "      <th>1004371304</th>\n",
       "      <td>NOROCCIDENTE</td>\n",
       "      <td>ANTIOQUIA</td>\n",
       "      <td>HFC</td>\n",
       "      <td>CONTACT</td>\n",
       "      <td>SAC</td>\n",
       "      <td>INDIRECTA</td>\n",
       "      <td>1</td>\n",
       "      <td>1.0</td>\n",
       "      <td>TV</td>\n",
       "      <td>Individual</td>\n",
       "      <td>...</td>\n",
       "      <td>0</td>\n",
       "      <td>0</td>\n",
       "      <td>0</td>\n",
       "      <td>0</td>\n",
       "      <td>0</td>\n",
       "      <td>0</td>\n",
       "      <td>0</td>\n",
       "      <td>0</td>\n",
       "      <td>0</td>\n",
       "      <td>(-1.0, 7.0]</td>\n",
       "    </tr>\n",
       "    <tr>\n",
       "      <th>1004382867</th>\n",
       "      <td>COSTA</td>\n",
       "      <td>MAGDALENA</td>\n",
       "      <td>HFC</td>\n",
       "      <td>CONTACT</td>\n",
       "      <td>IN BOUND</td>\n",
       "      <td>INDIRECTA</td>\n",
       "      <td>3</td>\n",
       "      <td>7.0</td>\n",
       "      <td>TO+TV+BA</td>\n",
       "      <td>Trio</td>\n",
       "      <td>...</td>\n",
       "      <td>0</td>\n",
       "      <td>0</td>\n",
       "      <td>0</td>\n",
       "      <td>0</td>\n",
       "      <td>0</td>\n",
       "      <td>0</td>\n",
       "      <td>0</td>\n",
       "      <td>0</td>\n",
       "      <td>1</td>\n",
       "      <td>(-1.0, 7.0]</td>\n",
       "    </tr>\n",
       "    <tr>\n",
       "      <th>1004490958</th>\n",
       "      <td>EJE CAFETERO</td>\n",
       "      <td>RISARALDA</td>\n",
       "      <td>HFC</td>\n",
       "      <td>TIENDAS</td>\n",
       "      <td>TIENDAS</td>\n",
       "      <td>INDIRECTA</td>\n",
       "      <td>SE</td>\n",
       "      <td>NaN</td>\n",
       "      <td>TO+BA</td>\n",
       "      <td>Duo</td>\n",
       "      <td>...</td>\n",
       "      <td>0</td>\n",
       "      <td>0</td>\n",
       "      <td>0</td>\n",
       "      <td>0</td>\n",
       "      <td>0</td>\n",
       "      <td>0</td>\n",
       "      <td>0</td>\n",
       "      <td>0</td>\n",
       "      <td>0</td>\n",
       "      <td>NaN</td>\n",
       "    </tr>\n",
       "    <tr>\n",
       "      <th>1004686283</th>\n",
       "      <td>EJE CAFETERO</td>\n",
       "      <td>RISARALDA</td>\n",
       "      <td>HFC</td>\n",
       "      <td>FVD</td>\n",
       "      <td>FVD</td>\n",
       "      <td>INDIRECTA</td>\n",
       "      <td>3</td>\n",
       "      <td>NaN</td>\n",
       "      <td>BA</td>\n",
       "      <td>Individual</td>\n",
       "      <td>...</td>\n",
       "      <td>0</td>\n",
       "      <td>0</td>\n",
       "      <td>0</td>\n",
       "      <td>0</td>\n",
       "      <td>0</td>\n",
       "      <td>0</td>\n",
       "      <td>0</td>\n",
       "      <td>0</td>\n",
       "      <td>1</td>\n",
       "      <td>NaN</td>\n",
       "    </tr>\n",
       "  </tbody>\n",
       "</table>\n",
       "<p>5 rows × 22 columns</p>\n",
       "</div>"
      ],
      "text/plain": [
       "                REGIONAL DEPARTAMENTO TECNOL GERENCIA  \\\n",
       "cliente_id                                              \n",
       "1004369760         COSTA    MAGDALENA    HFC  CONTACT   \n",
       "1004371304  NOROCCIDENTE    ANTIOQUIA    HFC  CONTACT   \n",
       "1004382867         COSTA    MAGDALENA    HFC  CONTACT   \n",
       "1004490958  EJE CAFETERO    RISARALDA    HFC  TIENDAS   \n",
       "1004686283  EJE CAFETERO    RISARALDA    HFC      FVD   \n",
       "\n",
       "           CANAL_HOMOLOGADO_MILLICON tipo_fuerza_venta estrato  \\\n",
       "cliente_id                                                       \n",
       "1004369760                       SAC         INDIRECTA       3   \n",
       "1004371304                       SAC         INDIRECTA       1   \n",
       "1004382867                  IN BOUND         INDIRECTA       3   \n",
       "1004490958                   TIENDAS         INDIRECTA      SE   \n",
       "1004686283                       FVD         INDIRECTA       3   \n",
       "\n",
       "            antiguedad_meses productos  portafolio  ...  asesoria_factura  \\\n",
       "cliente_id                                          ...                     \n",
       "1004369760              19.0     TV+BA         Duo  ...                 0   \n",
       "1004371304               1.0        TV  Individual  ...                 0   \n",
       "1004382867               7.0  TO+TV+BA        Trio  ...                 0   \n",
       "1004490958               NaN     TO+BA         Duo  ...                 0   \n",
       "1004686283               NaN        BA  Individual  ...                 0   \n",
       "\n",
       "           pedidos_peticiones  reagendamiento  asesoria_servicios  retencion  \\\n",
       "cliente_id                                                                     \n",
       "1004369760                  0               0                   0          0   \n",
       "1004371304                  0               0                   0          0   \n",
       "1004382867                  0               0                   0          0   \n",
       "1004490958                  0               0                   0          0   \n",
       "1004686283                  0               0                   0          0   \n",
       "\n",
       "            Otras  quejas_fraude  traslado  Incumplimiento_pago  \\\n",
       "cliente_id                                                        \n",
       "1004369760      0              0         0                    0   \n",
       "1004371304      0              0         0                    0   \n",
       "1004382867      0              0         0                    1   \n",
       "1004490958      0              0         0                    0   \n",
       "1004686283      0              0         0                    1   \n",
       "\n",
       "            antiguedad_meses_binned  \n",
       "cliente_id                           \n",
       "1004369760              (7.0, 24.0]  \n",
       "1004371304              (-1.0, 7.0]  \n",
       "1004382867              (-1.0, 7.0]  \n",
       "1004490958                      NaN  \n",
       "1004686283                      NaN  \n",
       "\n",
       "[5 rows x 22 columns]"
      ]
     },
     "execution_count": 11,
     "metadata": {},
     "output_type": "execute_result"
    }
   ],
   "source": [
    "df['antiguedad_meses_binned'] = pd.qcut(df['antiguedad_meses'], q=4, precision=0)\n",
    "df.head()"
   ]
  },
  {
   "cell_type": "code",
   "execution_count": 26,
   "metadata": {},
   "outputs": [],
   "source": [
    "df_modelo = df\n",
    "df_modelo = df_modelo.drop(columns = ['antiguedad_meses'])\n",
    "df_modelo = pd.get_dummies(df_modelo, columns=['REGIONAL','TECNOL','tipo_fuerza_venta','portafolio','antiguedad_meses_binned','estrato'])                        \n",
    "df_modelo = df_modelo.select_dtypes(include = [\"int16\", \"int32\", \"int64\", \"float16\", \"float32\", \"float64\",\"uint8\"])\n",
    "df_modelo['no_serv_tecnicos'] = df_modelo['no_serv_tecnicos'].replace(np.nan,0.0)"
   ]
  },
  {
   "cell_type": "code",
   "execution_count": 45,
   "metadata": {
    "scrolled": true
   },
   "outputs": [
    {
     "name": "stdout",
     "output_type": "stream",
     "text": [
      "Optimization terminated successfully.\n",
      "         Current function value: 0.314510\n",
      "         Iterations 14\n",
      "                           Logit Regression Results                           \n",
      "==============================================================================\n",
      "Dep. Variable:                      y   No. Observations:                 7231\n",
      "Model:                          Logit   Df Residuals:                     7200\n",
      "Method:                           MLE   Df Model:                           30\n",
      "Date:                Fri, 26 Feb 2021   Pseudo R-squ.:                  0.1562\n",
      "Time:                        03:03:43   Log-Likelihood:                -2274.2\n",
      "converged:                       True   LL-Null:                       -2695.3\n",
      "Covariance Type:            nonrobust   LLR p-value:                8.463e-158\n",
      "=========================================================================================================\n",
      "                                            coef    std err          z      P>|z|      [0.025      0.975]\n",
      "---------------------------------------------------------------------------------------------------------\n",
      "const                                    -0.0545        nan        nan        nan         nan         nan\n",
      "no_serv_tecnicos                         -0.6892      0.085     -8.102      0.000      -0.856      -0.522\n",
      "asesoria_factura                         -0.3246      0.184     -1.768      0.077      -0.684       0.035\n",
      "pedidos_peticiones                        0.0903      0.175      0.516      0.606      -0.253       0.433\n",
      "reagendamiento                            0.0224      0.261      0.086      0.932      -0.490       0.535\n",
      "asesoria_servicios                        0.0341      0.235      0.145      0.885      -0.426       0.494\n",
      "retencion                                 0.1136      0.335      0.339      0.735      -0.544       0.771\n",
      "Otras                                     0.1206      0.441      0.274      0.784      -0.743       0.984\n",
      "quejas_fraude                            -0.6411      0.241     -2.661      0.008      -1.113      -0.169\n",
      "traslado                                 -0.0803      0.169     -0.476      0.634      -0.411       0.250\n",
      "REGIONAL_CENTRO                           0.2330        nan        nan        nan         nan         nan\n",
      "REGIONAL_COSTA                            0.4080        nan        nan        nan         nan         nan\n",
      "REGIONAL_EJE CAFETERO                    -0.4677        nan        nan        nan         nan         nan\n",
      "REGIONAL_NOROCCIDENTE                    -0.2013        nan        nan        nan         nan         nan\n",
      "REGIONAL_ORIENTE                         -0.0443        nan        nan        nan         nan         nan\n",
      "REGIONAL_SUR                              0.0178        nan        nan        nan         nan         nan\n",
      "TECNOL_DTH                                0.5258        nan        nan        nan         nan         nan\n",
      "TECNOL_GPON                               0.0312        nan        nan        nan         nan         nan\n",
      "TECNOL_HFC                               -0.5297        nan        nan        nan         nan         nan\n",
      "TECNOL_REDCO                             -0.0818        nan        nan        nan         nan         nan\n",
      "tipo_fuerza_venta_DIRECTA                 0.2912   1.24e+06   2.35e-07      1.000   -2.43e+06    2.43e+06\n",
      "tipo_fuerza_venta_INDIRECTA              -0.3456   1.93e+06  -1.79e-07      1.000   -3.78e+06    3.78e+06\n",
      "portafolio_Duo                           -0.1968        nan        nan        nan         nan         nan\n",
      "portafolio_Individual                    -0.4847        nan        nan        nan         nan         nan\n",
      "portafolio_Trio                           0.6271        nan        nan        nan         nan         nan\n",
      "antiguedad_meses_binned_(-1.0, 7.0]      -0.8054      0.184     -4.374      0.000      -1.166      -0.445\n",
      "antiguedad_meses_binned_(7.0, 24.0]      -1.5604      0.193     -8.102      0.000      -1.938      -1.183\n",
      "antiguedad_meses_binned_(24.0, 71.0]     -1.9994      0.203     -9.872      0.000      -2.396      -1.602\n",
      "antiguedad_meses_binned_(71.0, 337.0]    -2.1997      0.212    -10.371      0.000      -2.615      -1.784\n",
      "estrato_1                                 0.7892        nan        nan        nan         nan         nan\n",
      "estrato_2                                 0.8147        nan        nan        nan         nan         nan\n",
      "estrato_3                                 0.6798        nan        nan        nan         nan         nan\n",
      "estrato_4                                 0.6682        nan        nan        nan         nan         nan\n",
      "estrato_5                                 0.3032        nan        nan        nan         nan         nan\n",
      "estrato_6                                -0.0350        nan        nan        nan         nan         nan\n",
      "estrato_SE                               -3.2746        nan        nan        nan         nan         nan\n",
      "=========================================================================================================\n"
     ]
    }
   ],
   "source": [
    "# División de los datos en train y test\n",
    "# ==============================================================================\n",
    "X = df_modelo.drop(columns = ['Incumplimiento_pago'])\n",
    "y = df_modelo['Incumplimiento_pago']\n",
    "\n",
    "X_train, X_test, y_train, y_test = train_test_split(\n",
    "                                        X,\n",
    "                                        y.values.reshape(-1,1),\n",
    "                                        train_size   = 0.7,\n",
    "                                        random_state = 1234,\n",
    "                                        shuffle      = True)\n",
    "\n",
    "# Creación del modelo utilizando matrices como en scikitlearn\n",
    "# ==============================================================================\n",
    "# A la matriz de predictores se le tiene que añadir una columna de 1s para el intercept del modelo\n",
    "X_train = sm.add_constant(X_train, prepend=True)\n",
    "modelo = sm.Logit(endog=y_train, exog=X_train)\n",
    "modelo = modelo.fit()\n",
    "print(modelo.summary())"
   ]
  },
  {
   "cell_type": "code",
   "execution_count": 46,
   "metadata": {},
   "outputs": [
    {
     "data": {
      "text/plain": [
       "array([0, 0, 0, ..., 0, 0, 0])"
      ]
     },
     "execution_count": 46,
     "metadata": {},
     "output_type": "execute_result"
    }
   ],
   "source": [
    "# Predicciones con intervalo de confianza \n",
    "# ==============================================================================\n",
    "predicciones = modelo.predict(exog = X_train)\n",
    "X_train ['pedicciones'] = predicciones\n",
    "\n",
    "# Clasificación predicha\n",
    "# ==============================================================================\n",
    "clasificacion = np.where(predicciones<0.5, 0, 1)\n",
    "clasificacion"
   ]
  },
  {
   "cell_type": "code",
   "execution_count": 47,
   "metadata": {},
   "outputs": [
    {
     "name": "stdout",
     "output_type": "stream",
     "text": [
      "\n",
      "El accuracy de test es: 88.0%\n"
     ]
    }
   ],
   "source": [
    "# Accuracy de test del modelo \n",
    "# ==============================================================================\n",
    "X_test = sm.add_constant(X_test, prepend=True)\n",
    "predicciones = modelo.predict(exog = X_test)\n",
    "X_test ['pedicciones'] = predicciones\n",
    "with pd.ExcelWriter('D:\\Laura\\PRUEBA TECNICA\\Predicciones.xlsx') as writer:  \n",
    "    X_train.to_excel(writer, sheet_name='DatosEntrenamiento')\n",
    "    X_test.to_excel(writer, sheet_name='DatosPrueba')\n",
    "    \n",
    "\n",
    "\n",
    "clasificacion = np.where(predicciones<0.5, 0, 1)\n",
    "accuracy = accuracy_score(\n",
    "            y_true    = y_test,\n",
    "            y_pred    = clasificacion,\n",
    "            normalize = True\n",
    "           )\n",
    "print(\"\")\n",
    "print(f\"El accuracy de test es: {100*accuracy}%\")"
   ]
  },
  {
   "cell_type": "code",
   "execution_count": 30,
   "metadata": {},
   "outputs": [
    {
     "data": {
      "text/html": [
       "<div>\n",
       "<style scoped>\n",
       "    .dataframe tbody tr th:only-of-type {\n",
       "        vertical-align: middle;\n",
       "    }\n",
       "\n",
       "    .dataframe tbody tr th {\n",
       "        vertical-align: top;\n",
       "    }\n",
       "\n",
       "    .dataframe thead th {\n",
       "        text-align: right;\n",
       "    }\n",
       "</style>\n",
       "<table border=\"1\" class=\"dataframe\">\n",
       "  <thead>\n",
       "    <tr style=\"text-align: right;\">\n",
       "      <th>Predicción</th>\n",
       "      <th>0</th>\n",
       "      <th>1</th>\n",
       "    </tr>\n",
       "    <tr>\n",
       "      <th>Real</th>\n",
       "      <th></th>\n",
       "      <th></th>\n",
       "    </tr>\n",
       "  </thead>\n",
       "  <tbody>\n",
       "    <tr>\n",
       "      <th>0</th>\n",
       "      <td>2690</td>\n",
       "      <td>24</td>\n",
       "    </tr>\n",
       "    <tr>\n",
       "      <th>1</th>\n",
       "      <td>348</td>\n",
       "      <td>38</td>\n",
       "    </tr>\n",
       "  </tbody>\n",
       "</table>\n",
       "</div>"
      ],
      "text/plain": [
       "Predicción     0   1\n",
       "Real                \n",
       "0           2690  24\n",
       "1            348  38"
      ]
     },
     "execution_count": 30,
     "metadata": {},
     "output_type": "execute_result"
    }
   ],
   "source": [
    "# Matriz de confusión de las predicciones de test\n",
    "# ==============================================================================\n",
    "confusion_matrix = pd.crosstab(\n",
    "    y_test.ravel(),\n",
    "    clasificacion,\n",
    "    rownames=['Real'],\n",
    "    colnames=['Predicción']\n",
    ")\n",
    "confusion_matrix"
   ]
  },
  {
   "cell_type": "markdown",
   "metadata": {},
   "source": [
    "### 2.Construya un modelo estadístico que calcule la probabilidad de que un cliente no pague la primera factura. Explique por qué escogió las variables con las que va a trabajar y si debió hacer modificaciones de estas.\n",
    "\n",
    "Utilicé una regresión logística porque me permite revisar la influencia de las variables sobre la variable dependiente. Dentro de las transformaciones que tuve que hacer estuvieron:\n",
    "- Dummies para las variables categóricas\n",
    "- Llevar la antiguedad a una varable categórica para poder utilizarla en el modelo\n",
    "\n",
    "Dentro del análisis descriptivo preliminar se pudo evidenciar la correlación de algunas variables (como se mencionó anteriormente después del descriptivo), y no incluir variables correlacionadas.\n",
    "\n",
    "A medida que corría el modelo podía ver a través del p-value si las variables eran estadísticamente relevantes para el modelo o no. A pesar de que algunas de ellas no lo son, llevé el modelo hasta el punto donde obtuve el máximo accuracy.\n",
    "\n",
    "Además, a través de la herramienta KNIME AP pude hacer una exploración de las variables para revisar cuáles eran más relevantes a partir de un forward/backward feature selection que me permitió ver que variables como no_servicios y quejas eran relevantes.\n"
   ]
  }
 ],
 "metadata": {
  "kernelspec": {
   "display_name": "Python 3",
   "language": "python",
   "name": "python3"
  },
  "language_info": {
   "codemirror_mode": {
    "name": "ipython",
    "version": 3
   },
   "file_extension": ".py",
   "mimetype": "text/x-python",
   "name": "python",
   "nbconvert_exporter": "python",
   "pygments_lexer": "ipython3",
   "version": "3.8.5"
  }
 },
 "nbformat": 4,
 "nbformat_minor": 4
}
